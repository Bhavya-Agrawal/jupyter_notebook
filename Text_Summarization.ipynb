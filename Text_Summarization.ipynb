{
 "cells": [
  {
   "cell_type": "code",
   "execution_count": 62,
   "metadata": {},
   "outputs": [],
   "source": [
    "from gensim.summarization import summarize\n"
   ]
  },
  {
   "cell_type": "code",
   "execution_count": 63,
   "metadata": {},
   "outputs": [
    {
     "name": "stdout",
     "output_type": "stream",
     "text": [
      "Input text:\n",
      "Thomas A. Anderson is a man living two lives. By day he is an average computer programmer and by night a hacker known as Neo. Neo has always questioned his reality, but the truth is far beyond his imagination. Neo finds himself targeted by the police when he is contacted by Morpheus, a legendary computer hacker branded a terrorist by the government. Morpheus awakens Neo to the real world, a ravaged wasteland where most of humanity have been captured by a race of machines that live off of the humans' body heat and electrochemical energy and who imprison their minds within an artificial reality known as the Matrix. As a rebel against the machines, Neo must return to the Matrix and confront the agents: super-powerful computer programs devoted to snuffing out Neo and the entire human rebellion. \n"
     ]
    }
   ],
   "source": [
    "\n",
    "\n",
    "text = \"Thomas A. Anderson is a man living two lives. By day he is an \" + \\\n",
    "    \"average computer programmer and by night a hacker known as \" + \\\n",
    "    \"Neo. Neo has always questioned his reality, but the truth is \" + \\\n",
    "    \"far beyond his imagination. Neo finds himself targeted by the \" + \\\n",
    "    \"police when he is contacted by Morpheus, a legendary computer \" + \\\n",
    "    \"hacker branded a terrorist by the government. Morpheus awakens \" + \\\n",
    "    \"Neo to the real world, a ravaged wasteland where most of \" + \\\n",
    "    \"humanity have been captured by a race of machines that live \" + \\\n",
    "    \"off of the humans' body heat and electrochemical energy and \" + \\\n",
    "    \"who imprison their minds within an artificial reality known as \" + \\\n",
    "    \"the Matrix. As a rebel against the machines, Neo must return to \" + \\\n",
    "    \"the Matrix and confront the agents: super-powerful computer \" + \\\n",
    "    \"programs devoted to snuffing out Neo and the entire human \" + \\\n",
    "    \"rebellion. \"\n",
    "\n",
    "print('Input text:')\n",
    "print(text)\n",
    "\n"
   ]
  },
  {
   "cell_type": "code",
   "execution_count": 64,
   "metadata": {},
   "outputs": [
    {
     "name": "stdout",
     "output_type": "stream",
     "text": [
      "Morpheus awakens Neo to the real world, a ravaged wasteland where most of humanity have been captured by a race of machines that live off of the humans' body heat and electrochemical energy and who imprison their minds within an artificial reality known as the Matrix.\n"
     ]
    }
   ],
   "source": [
    "print(summarize(text))"
   ]
  },
  {
   "cell_type": "code",
   "execution_count": 65,
   "metadata": {},
   "outputs": [
    {
     "name": "stdout",
     "output_type": "stream",
     "text": [
      "The plot shows the training and test set accuracy on the y-axis against the setting ofneighbors on the x-axis. While real-world plots rarely very smooth, we can still recognize some of the characteristics of overfitting and underfitting (note that because considering fewer neighbors corresponds to a more complex model, the plot is horizontally flipped relative to the illustration in Figure 2-1). Considering a single nearest neighbor, the prediction on the training set is perfect. But when more neighbours are considered, the model becomes simpler and the training accuracy drops. The test set accuracy for using a single neighbor is lower than when using more neighbors, indicating that using the single nearest neighbor leads to a model that is too complex. On the other hand, when considering 10 neighbors, the model is too simple and performance is even worse. The best performance is somewhere in the middle,using around six neighbors. Still, it is good to keep the scale of the plot in mind. The worst performance is around 88% accuracy, which might still be acceptable.\n",
      "\n"
     ]
    }
   ],
   "source": [
    "#reading text from a file placed in the same folder the text in file should be such that it comes completely within a single point\n",
    "f = open('text.txt','r+')\n",
    "talk = f.read()\n",
    "print(talk)"
   ]
  },
  {
   "cell_type": "code",
   "execution_count": 66,
   "metadata": {
    "scrolled": true
   },
   "outputs": [
    {
     "name": "stdout",
     "output_type": "stream",
     "text": [
      "The test set accuracy for using a single neighbor is lower than when using more neighbors, indicating that using the single nearest neighbor leads to a model that is too complex.\n"
     ]
    }
   ],
   "source": [
    "print(summarize(talk))"
   ]
  },
  {
   "cell_type": "code",
   "execution_count": 73,
   "metadata": {},
   "outputs": [
    {
     "name": "stdout",
     "output_type": "stream",
     "text": [
      "Today the class was at 2pm. And sr taught  us regarding the regression that how much it is useful for getting the most accurate result. Also we learn about that classification and regression are the two most important part of Machine Learning algorithm. Reading it I felt that really its too good to laern about such topics to have a better understanding of the Machine Learning from the roots. We can also evaluate the model using the score method, which for regressors returns the R 2 score. The R 2 score, also known as the coefficient of determination, is a measure of goodness of a prediction for a regression model, and yields a score between 0 and 1. A value of corresponds to a perfect prediction, and a value of 0 corresponds to a constant model that just predicts the mean of the training set responses, y_train :\n"
     ]
    }
   ],
   "source": [
    "f = open('introofclass.txt','r+')\n",
    "class_text = f.read()\n",
    "print(class_text)"
   ]
  },
  {
   "cell_type": "code",
   "execution_count": 74,
   "metadata": {},
   "outputs": [
    {
     "name": "stdout",
     "output_type": "stream",
     "text": [
      "The R 2 score, also known as the coefficient of determination, is a measure of goodness of a prediction for a regression model, and yields a score between 0 and 1.\n"
     ]
    }
   ],
   "source": [
    "print(summarize(class_text))"
   ]
  },
  {
   "cell_type": "code",
   "execution_count": null,
   "metadata": {},
   "outputs": [],
   "source": []
  }
 ],
 "metadata": {
  "kernelspec": {
   "display_name": "Python 3",
   "language": "python",
   "name": "python3"
  },
  "language_info": {
   "codemirror_mode": {
    "name": "ipython",
    "version": 3
   },
   "file_extension": ".py",
   "mimetype": "text/x-python",
   "name": "python",
   "nbconvert_exporter": "python",
   "pygments_lexer": "ipython3",
   "version": "3.6.5"
  }
 },
 "nbformat": 4,
 "nbformat_minor": 2
}
