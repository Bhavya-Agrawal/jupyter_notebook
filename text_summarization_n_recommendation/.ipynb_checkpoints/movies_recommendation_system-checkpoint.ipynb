{
 "cells": [
  {
   "cell_type": "code",
   "execution_count": 52,
   "metadata": {},
   "outputs": [],
   "source": [
    "import pandas as pd\n",
    "movies_data = pd.read_csv('movies_metadata.csv',low_memory=False)\n",
    "# to print complete movie data\n",
    "#print(movies_data)"
   ]
  },
  {
   "cell_type": "code",
   "execution_count": 2,
   "metadata": {},
   "outputs": [
    {
     "name": "stdout",
     "output_type": "stream",
     "text": [
      "(45466, 24)\n"
     ]
    }
   ],
   "source": [
    "print(movies_data.shape)"
   ]
  },
  {
   "cell_type": "code",
   "execution_count": 3,
   "metadata": {},
   "outputs": [
    {
     "name": "stdout",
     "output_type": "stream",
     "text": [
      "1091184\n"
     ]
    }
   ],
   "source": [
    "print(movies_data.size)"
   ]
  },
  {
   "cell_type": "code",
   "execution_count": 4,
   "metadata": {},
   "outputs": [
    {
     "name": "stdout",
     "output_type": "stream",
     "text": [
      "<class 'pandas.core.frame.DataFrame'>\n"
     ]
    }
   ],
   "source": [
    "print(type(movies_data))"
   ]
  },
  {
   "cell_type": "code",
   "execution_count": 6,
   "metadata": {},
   "outputs": [],
   "source": [
    "movies = list(movies_data)"
   ]
  },
  {
   "cell_type": "code",
   "execution_count": 7,
   "metadata": {},
   "outputs": [
    {
     "name": "stdout",
     "output_type": "stream",
     "text": [
      "<class 'list'>\n"
     ]
    }
   ],
   "source": [
    "print(type(movies))"
   ]
  },
  {
   "cell_type": "code",
   "execution_count": 19,
   "metadata": {},
   "outputs": [
    {
     "name": "stdout",
     "output_type": "stream",
     "text": [
      "24\n",
      "adult\n",
      "   adult                              belongs_to_collection    budget  \\\n",
      "0  False  {'id': 10194, 'name': 'Toy Story Collection', ...  30000000   \n",
      "1  False                                                NaN  65000000   \n",
      "2  False  {'id': 119050, 'name': 'Grumpy Old Men Collect...         0   \n",
      "3  False                                                NaN  16000000   \n",
      "\n",
      "                                              genres  \\\n",
      "0  [{'id': 16, 'name': 'Animation'}, {'id': 35, '...   \n",
      "1  [{'id': 12, 'name': 'Adventure'}, {'id': 14, '...   \n",
      "2  [{'id': 10749, 'name': 'Romance'}, {'id': 35, ...   \n",
      "3  [{'id': 35, 'name': 'Comedy'}, {'id': 18, 'nam...   \n",
      "\n",
      "                               homepage     id    imdb_id original_language  \\\n",
      "0  http://toystory.disney.com/toy-story    862  tt0114709                en   \n",
      "1                                   NaN   8844  tt0113497                en   \n",
      "2                                   NaN  15602  tt0113228                en   \n",
      "3                                   NaN  31357  tt0114885                en   \n",
      "\n",
      "      original_title                                           overview  \\\n",
      "0          Toy Story  Led by Woody, Andy's toys live happily in his ...   \n",
      "1            Jumanji  When siblings Judy and Peter discover an encha...   \n",
      "2   Grumpier Old Men  A family wedding reignites the ancient feud be...   \n",
      "3  Waiting to Exhale  Cheated on, mistreated and stepped on, the wom...   \n",
      "\n",
      "     ...     release_date      revenue runtime  \\\n",
      "0    ...       1995-10-30  373554033.0    81.0   \n",
      "1    ...       1995-12-15  262797249.0   104.0   \n",
      "2    ...       1995-12-22          0.0   101.0   \n",
      "3    ...       1995-12-22   81452156.0   127.0   \n",
      "\n",
      "                                    spoken_languages    status  \\\n",
      "0           [{'iso_639_1': 'en', 'name': 'English'}]  Released   \n",
      "1  [{'iso_639_1': 'en', 'name': 'English'}, {'iso...  Released   \n",
      "2           [{'iso_639_1': 'en', 'name': 'English'}]  Released   \n",
      "3           [{'iso_639_1': 'en', 'name': 'English'}]  Released   \n",
      "\n",
      "                                             tagline              title  \\\n",
      "0                                                NaN          Toy Story   \n",
      "1          Roll the dice and unleash the excitement!            Jumanji   \n",
      "2  Still Yelling. Still Fighting. Still Ready for...   Grumpier Old Men   \n",
      "3  Friends are the people who let you be yourself...  Waiting to Exhale   \n",
      "\n",
      "   video vote_average vote_count  \n",
      "0  False          7.7     5415.0  \n",
      "1  False          6.9     2413.0  \n",
      "2  False          6.5       92.0  \n",
      "3  False          6.1       34.0  \n",
      "\n",
      "[4 rows x 24 columns]\n"
     ]
    }
   ],
   "source": [
    "print(len(movies))\n",
    "#print(movies[0])\n",
    "'''for i in range(0,len(movies)):\n",
    "    print(movies[i])'''\n",
    "# to print top 4 rows of movies_data\n",
    "print(movies_data.head(4))"
   ]
  },
  {
   "cell_type": "code",
   "execution_count": 29,
   "metadata": {},
   "outputs": [],
   "source": [
    "#print(movies_data.loc[movies_data['id']==10194])"
   ]
  },
  {
   "cell_type": "code",
   "execution_count": 49,
   "metadata": {},
   "outputs": [
    {
     "name": "stdout",
     "output_type": "stream",
     "text": [
      "0        Led by Woody, Andy's toys live happily in his ...\n",
      "1        When siblings Judy and Peter discover an encha...\n",
      "2        A family wedding reignites the ancient feud be...\n",
      "3        Cheated on, mistreated and stepped on, the wom...\n",
      "4        Just when George Banks has recovered from his ...\n",
      "5        Obsessive master thief, Neil McCauley leads a ...\n",
      "6        An ugly duckling having undergone a remarkable...\n",
      "7        A mischievous young boy, Tom Sawyer, witnesses...\n",
      "8        International action superstar Jean Claude Van...\n",
      "9        James Bond must unmask the mysterious head of ...\n",
      "10       Widowed U.S. president Andrew Shepherd, one of...\n",
      "11       When a lawyer shows up at the vampire's doorst...\n",
      "12       An outcast half-wolf risks his life to prevent...\n",
      "13       An all-star cast powers this epic look at Amer...\n",
      "14       Morgan Adams and her slave, William Shaw, are ...\n",
      "15       The life of the gambling paradise – Las Vegas ...\n",
      "16       Rich Mr. Dashwood dies, leaving his second wif...\n",
      "17       It's Ted the Bellhop's first night on the job....\n",
      "18       Summoned from an ashram in Tibet, Ace finds hi...\n",
      "19       A vengeful New York transit cop decides to ste...\n",
      "20       Chili Palmer is a Miami mobster who gets sent ...\n",
      "21       An agoraphobic psychologist and a female detec...\n",
      "22       Assassin Robert Rath arrives at a funeral to k...\n",
      "23       Harassed by classmates who won't accept his sh...\n",
      "24       Ben Sanderson, an alcoholic Hollywood screenwr...\n",
      "25       The evil Iago pretends to be friend of Othello...\n",
      "26       Waxing nostalgic about the bittersweet passage...\n",
      "27       This film adaptation of Jane Austen's last nov...\n",
      "28       A scientist in a surrealist society kidnaps ch...\n",
      "29       A provincial boy related to a Shanghai crime f...\n",
      "                               ...                        \n",
      "45436    A stranger named Silas flees from a devastatin...\n",
      "45437    A closeted boy runs the risk of being outed by...\n",
      "45438    Bloed, Zweet en Tranen (Blood, Sweat and Tears...\n",
      "45439    Paula the ape woman (Acquanetta) is alive and ...\n",
      "45440    Pretty, popular, and slim high-schooler Aly Sc...\n",
      "45441    Hyperactive teenager Kelly is enrolled into a ...\n",
      "45442    A combination gambling den and bawdy house is ...\n",
      "45443    A chemist in his laboratory places upon a tabl...\n",
      "45444    A bearded magician holds up a large playing ca...\n",
      "45445    A wall full of advertising posters comes to life.\n",
      "45446    A man rents an apartment and furnishes it in r...\n",
      "45447    The background of this picture represents a sc...\n",
      "45448    This shows a prince entering upon the stage of...\n",
      "45449    It's Halloween in the 100 Acre Wood, and Roo's...\n",
      "45450    A band-leader has arranged seven chairs for th...\n",
      "45451           A series of fantastical wrestling matches.\n",
      "45452    Deep Hearts is a film about the Bororo Fulani,...\n",
      "45453    The bliss of a biology teacher’s family life i...\n",
      "45454    The Morning After is a feature film that consi...\n",
      "45455    Sentenced to life imprisonment for illegal act...\n",
      "45456    An unsuccessful sculptor saves a madman named ...\n",
      "45457    In this true-crime documentary, we delve into ...\n",
      "45458    A film archivist revisits the story of Rustin ...\n",
      "45459    It's the year 3000 AD. The world's most danger...\n",
      "45460    Yet another version of the classic epic, with ...\n",
      "45461          Rising and falling between a man and woman.\n",
      "45462    An artist struggles to finish his work while a...\n",
      "45463    When one of her hits goes wrong, a professiona...\n",
      "45464    In a small town live two brothers, one a minis...\n",
      "45465    50 years after decriminalisation of homosexual...\n",
      "Name: overview, Length: 45466, dtype: object\n"
     ]
    }
   ],
   "source": [
    "# movie data is in form of the dictionary so access values as in a dictionary\n",
    "#print(movies_data['id'])\n",
    "#print(movies_data['title'])\n",
    "print(movies_data['overview'])\n",
    "#votes = movies_data['vote_count']\n",
    "zone = movies_data['genres']\n",
    "#print(zone)\n",
    "#print(zone[0]['name'])"
   ]
  },
  {
   "cell_type": "code",
   "execution_count": null,
   "metadata": {},
   "outputs": [],
   "source": []
  }
 ],
 "metadata": {
  "kernelspec": {
   "display_name": "Python 3",
   "language": "python",
   "name": "python3"
  },
  "language_info": {
   "codemirror_mode": {
    "name": "ipython",
    "version": 3
   },
   "file_extension": ".py",
   "mimetype": "text/x-python",
   "name": "python",
   "nbconvert_exporter": "python",
   "pygments_lexer": "ipython3",
   "version": "3.6.5"
  }
 },
 "nbformat": 4,
 "nbformat_minor": 2
}
